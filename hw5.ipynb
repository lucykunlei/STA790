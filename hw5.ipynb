{
 "cells": [
  {
   "cell_type": "code",
   "execution_count": 1,
   "metadata": {},
   "outputs": [],
   "source": [
    "# loading packages\n",
    "import pickle\n",
    "import numpy as np\n",
    "import os\n",
    "import torch\n",
    "import torch.optim as optim\n",
    "import torch.nn as nn"
   ]
  },
  {
   "cell_type": "code",
   "execution_count": 2,
   "metadata": {},
   "outputs": [],
   "source": [
    "# load data\n",
    "def unpickle(file):\n",
    "    with open(file, 'rb') as fo:\n",
    "        dict = pickle.load(fo, encoding = 'bytes')\n",
    "    return dict\n",
    "\n",
    "## function to load a batch\n",
    "def load_CIFAR_batch(filename):\n",
    "    with open(filename, 'rb') as f:\n",
    "        datadict = pickle.load(f, encoding = 'latin1')\n",
    "        X = datadict['data']\n",
    "        Y = datadict['labels']\n",
    "        X = X.reshape(10000, 3, 32, 32).transpose(0,2,3,1).astype('float')\n",
    "        Y = np.array(Y)\n",
    "    return X, Y\n",
    "\n",
    "## function to load the whole dataset\n",
    "def load_CIFAR10():\n",
    "    xs = []\n",
    "    ys = []\n",
    "    for b in range(1,6):\n",
    "        location = 'data_batch_' + str(b)\n",
    "        X, Y = load_CIFAR_batch(location)\n",
    "        xs.append(X)\n",
    "        ys.append(Y)\n",
    "    Xtr = np.concatenate(xs)\n",
    "    Ytr = np.concatenate(ys)\n",
    "    del X, Y\n",
    "    Xte, Yte = load_CIFAR_batch('test_batch')\n",
    "    return Xtr, Ytr, Xte, Yte\n",
    "\n",
    "## load dataset\n",
    "x_train, y_train, x_test, y_test = load_CIFAR10()"
   ]
  },
  {
   "cell_type": "code",
   "execution_count": 3,
   "metadata": {},
   "outputs": [],
   "source": [
    "# flatten the dataset\n",
    "x_train = x_train.reshape(50000, 96, 32)\n",
    "x_test = x_test.reshape(10000, 96, 32)\n",
    "y_train = y_train.reshape(50000, 1)\n",
    "y_test = y_test.reshape(10000, 1)"
   ]
  },
  {
   "cell_type": "code",
   "execution_count": 4,
   "metadata": {},
   "outputs": [],
   "source": [
    "# set up device\n",
    "device = 'cuda' if torch.cuda.is_available() else 'cpu'"
   ]
  },
  {
   "cell_type": "code",
   "execution_count": 5,
   "metadata": {},
   "outputs": [],
   "source": [
    "# Transform np.array into tensor\n",
    "x_train_tensor = torch.from_numpy(x_train).float().to(device)\n",
    "y_train_tensor = torch.from_numpy(y_train).long().to(device)\n",
    "x_test_tensor = torch.from_numpy(x_test).float().to(device)\n",
    "y_test_tensor = torch.from_numpy(y_test).long().to(device)"
   ]
  },
  {
   "cell_type": "code",
   "execution_count": 38,
   "metadata": {},
   "outputs": [],
   "source": [
    "# numbers of input\n",
    "n_step = 96    # the number of time steps in each input stream. \n",
    "               # correspond to seq_len of the input dimensions (seq_len, batch, input_size)\n",
    "# dimension of input\n",
    "## n_input = 32\n",
    "input_dim = 32    #  The number of expected features in the input\n",
    "# hyperparameters\n",
    "n_hidden_units = 128    # The number of features in the hidden state h\n",
    "n_layers = 1"
   ]
  },
  {
   "cell_type": "code",
   "execution_count": 39,
   "metadata": {},
   "outputs": [],
   "source": [
    "# Build RNN model\n",
    "class Network(nn.Module):\n",
    "    def __init__(self):\n",
    "        super().__init__()\n",
    "        \n",
    "        # Define LSTM layer\n",
    "        self.lstm_1 = nn.LSTM(input_size = input_dim, hidden_size = n_hidden_units, num_layers = 1)\n",
    "        # Define dense output layer, 10 units - one for each category\n",
    "        self.dense_1 = nn.Linear(n_hidden_units, 10) # num_directions = 1 by default, \n",
    "                                                         # due to bidirectional set to False by default\n",
    "        # Define activation output\n",
    "        self.softmax = nn.Softmax(dim = 1)\n",
    "        \n",
    "    def forward(self, x):\n",
    "        # Pass the input tensor through each of our operations\n",
    "        x, states = self.lstm_1(x)\n",
    "        x = self.dense_1(x)\n",
    "        x = self.softmax(x)\n",
    "        \n",
    "        return x\n",
    "    \n",
    "#    def init_hidden(self, batch_size):\n",
    "        # This method generates the first hidden state of zeros which we'll use in the forward pass\n",
    "        # We'll send the tensor holding the hidden state to the device we specified earlier as well\n",
    "#        hidden = torch.zeros(n_layers, batch_size, hidden_dim)\n",
    "#        return hidden\n"
   ]
  },
  {
   "cell_type": "code",
   "execution_count": 40,
   "metadata": {},
   "outputs": [
    {
     "data": {
      "text/plain": [
       "torch.Size([1024, 96, 32])"
      ]
     },
     "execution_count": 40,
     "metadata": {},
     "output_type": "execute_result"
    }
   ],
   "source": [
    "(batch_x.shape)"
   ]
  },
  {
   "cell_type": "code",
   "execution_count": 41,
   "metadata": {},
   "outputs": [
    {
     "name": "stdout",
     "output_type": "stream",
     "text": [
      "Network(\n",
      "  (lstm_1): LSTM(32, 128)\n",
      "  (dense_1): Linear(in_features=128, out_features=10, bias=True)\n",
      "  (softmax): Softmax(dim=1)\n",
      ")\n"
     ]
    }
   ],
   "source": [
    "model = Network()\n",
    "print(model)"
   ]
  },
  {
   "cell_type": "code",
   "execution_count": 43,
   "metadata": {},
   "outputs": [],
   "source": [
    "# Training\n",
    "\n",
    "n_epochs = 10\n",
    "batch_size = 1024    # minibatches of size 1024\n",
    "n_batch = 10    # number of minibatches\n",
    "\n",
    "# Define optimizer\n",
    "learning_rate = 0.001\n",
    "optimizer = optim.SGD(model.parameters(), lr = learning_rate)\n",
    "## optimizer = torch.optim.Adam(model.parameters(), lr=lr)\n",
    "# Define loss\n",
    "criterion = nn.CTCLoss()\n",
    "# criterion = nn.CrossEntropyLoss()\n",
    "# criterion = nn.NLLLoss()\n",
    "\n",
    "# Define accuracy = correct / total\n",
    "train_total = 0\n",
    "train_correct = 0\n",
    "\n",
    "# Define steps & print_every\n",
    "steps = 0\n",
    "print_every = 100\n",
    "\n",
    "model.train()\n",
    "for epoch in range(n_epochs):\n",
    "    # set initial running loss\n",
    "    running_loss = 0\n",
    "    # get a permutation for batch sampling\n",
    "    permutation = torch.randperm(y_train_tensor.size()[0])\n",
    "    \n",
    "    # for i in range(0, y_train_tensor.size()[0], batch_size):\n",
    "    for i in range(0, batch_size*n_batch, batch_size):    # batch_size * n_batch = total number of observations\n",
    "        steps += 1\n",
    "        # sample a batch\n",
    "        indices = permutation[i:i+batch_size]\n",
    "        batch_x, batch_y = x_train_tensor[indices,:], y_train_tensor[indices]\n",
    "        batch_y = batch_y.squeeze()\n",
    "        # zero grad for each batch to start with\n",
    "        optimizer.zero_grad()\n",
    "        # run model\n",
    "        outputs = model.forward(batch_x)\n",
    "        input_lengths = torch.full(size=(batch_size,), fill_value=n_step, dtype=torch.long)\n",
    "        target_lengths = torch.full(size=(batch_size,), fill_value = 1, dtype=torch.long)\n",
    "        loss = criterion(outputs.transpose(0,1), batch_y, input_lengths, target_lengths)\n",
    "        loss.backward()\n",
    "        optimizer.step()\n",
    "        # accessing training result information\n",
    "        running_loss += loss.item()\n",
    "        train_total += batch_y.size()[0]\n",
    "        _, train_predicted = torch.max(outputs, 1)\n",
    "        train_correct += (train_predicted.transpose(0,1) == batch_y.unsqueeze(1).transpose(0,1)).sum().item()\n",
    "        # testing\n",
    "        # if steps % print_every == 0:\n",
    "            "
   ]
  },
  {
   "cell_type": "code",
   "execution_count": 44,
   "metadata": {},
   "outputs": [],
   "source": [
    "# Model validation\n",
    "test_loss = 0\n",
    "test_accuracy = 0\n",
    "test_correct = 0\n",
    "test_total = 0\n",
    "model.eval()\n",
    "with torch.no_grad():\n",
    "    test_outputs = model.forward(x_test_tensor)\n",
    "    input_lengths = torch.full(size=(x_test_tensor.shape[0],), fill_value=n_step, dtype=torch.long)\n",
    "    target_lengths = torch.full(size=(x_test_tensor.shape[0],), fill_value = 1, dtype=torch.long)\n",
    "    batch_loss = criterion(test_outputs.transpose(0,1), y_test_tensor, input_lengths, target_lengths)\n",
    "    test_loss += batch_loss.item()\n",
    "                \n",
    "    test_total += y_test_tensor.shape[0]\n",
    "    _, test_predicted = torch.max(test_outputs, 1)\n",
    "    test_correct += (test_predicted.transpose(0,1) == y_test_tensor.transpose(0,1)).sum().item()"
   ]
  },
  {
   "cell_type": "code",
   "execution_count": 45,
   "metadata": {},
   "outputs": [
    {
     "name": "stdout",
     "output_type": "stream",
     "text": [
      "-94.54211044311523\n",
      "train_accuracy 0.074755859375\n",
      "test_accuracy 0.0729\n",
      "train_loss -0.009232627972960473\n",
      "test_loss -0.000945539665222168\n"
     ]
    }
   ],
   "source": [
    "print(running_loss)\n",
    "print('train_accuracy', train_correct/train_total)\n",
    "print('test_accuracy', test_correct/test_total)\n",
    "print('train_loss', running_loss/batch_size/n_batch)\n",
    "print('test_loss', test_loss/len(y_test_tensor))"
   ]
  },
  {
   "cell_type": "code",
   "execution_count": null,
   "metadata": {},
   "outputs": [],
   "source": []
  },
  {
   "cell_type": "code",
   "execution_count": null,
   "metadata": {},
   "outputs": [],
   "source": []
  },
  {
   "cell_type": "code",
   "execution_count": null,
   "metadata": {},
   "outputs": [],
   "source": []
  },
  {
   "cell_type": "code",
   "execution_count": null,
   "metadata": {},
   "outputs": [],
   "source": []
  },
  {
   "cell_type": "code",
   "execution_count": null,
   "metadata": {},
   "outputs": [],
   "source": []
  },
  {
   "cell_type": "code",
   "execution_count": null,
   "metadata": {},
   "outputs": [],
   "source": [
    "#(batch_y.shape, outputs.shape, batch_x.shape)"
   ]
  },
  {
   "cell_type": "code",
   "execution_count": null,
   "metadata": {},
   "outputs": [],
   "source": [
    "#(outputs.squeeze().shape)"
   ]
  },
  {
   "cell_type": "code",
   "execution_count": null,
   "metadata": {},
   "outputs": [],
   "source": [
    "#(outputs.transpose(0,1).shape)"
   ]
  },
  {
   "cell_type": "code",
   "execution_count": null,
   "metadata": {},
   "outputs": [],
   "source": [
    "#(train_predicted.transpose(0,1).shape, batch_y.unsqueeze(1).transpose(0,1).shape)"
   ]
  },
  {
   "cell_type": "code",
   "execution_count": null,
   "metadata": {},
   "outputs": [],
   "source": [
    "#(train_predicted.transpose(0,1) == batch_y.unsqueeze(1).transpose(0,1))"
   ]
  },
  {
   "cell_type": "code",
   "execution_count": null,
   "metadata": {},
   "outputs": [],
   "source": [
    "#(y_test_tensor.shape)"
   ]
  },
  {
   "cell_type": "code",
   "execution_count": null,
   "metadata": {},
   "outputs": [],
   "source": []
  },
  {
   "cell_type": "code",
   "execution_count": null,
   "metadata": {},
   "outputs": [],
   "source": [
    "#(train_correct/train_total)"
   ]
  },
  {
   "cell_type": "code",
   "execution_count": null,
   "metadata": {},
   "outputs": [],
   "source": []
  },
  {
   "cell_type": "code",
   "execution_count": null,
   "metadata": {},
   "outputs": [],
   "source": [
    "#(x_test_tensor.shape[0])"
   ]
  },
  {
   "cell_type": "code",
   "execution_count": null,
   "metadata": {},
   "outputs": [],
   "source": [
    "#(batch_y.shape)"
   ]
  },
  {
   "cell_type": "code",
   "execution_count": null,
   "metadata": {},
   "outputs": [],
   "source": []
  }
 ],
 "metadata": {
  "kernelspec": {
   "display_name": "Python 3",
   "language": "python",
   "name": "python3"
  },
  "language_info": {
   "codemirror_mode": {
    "name": "ipython",
    "version": 3
   },
   "file_extension": ".py",
   "mimetype": "text/x-python",
   "name": "python",
   "nbconvert_exporter": "python",
   "pygments_lexer": "ipython3",
   "version": "3.7.3"
  }
 },
 "nbformat": 4,
 "nbformat_minor": 2
}
