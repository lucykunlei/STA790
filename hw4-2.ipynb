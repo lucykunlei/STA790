{
 "cells": [
  {
   "cell_type": "code",
   "execution_count": 1,
   "metadata": {},
   "outputs": [],
   "source": [
    "# loading packages\n",
    "import torch\n",
    "import torch.optim as optim\n",
    "import torch.nn as nn\n",
    "import torch.nn.functional as F\n",
    "import torchvision\n",
    "import torchvision.transforms as transforms\n",
    "import numpy as np\n",
    "import scipy.io as sio"
   ]
  },
  {
   "cell_type": "code",
   "execution_count": 2,
   "metadata": {},
   "outputs": [],
   "source": [
    "# set up device\n",
    "device = 'cuda' if torch.cuda.is_available() else 'cpu'"
   ]
  },
  {
   "cell_type": "code",
   "execution_count": 3,
   "metadata": {},
   "outputs": [
    {
     "name": "stdout",
     "output_type": "stream",
     "text": [
      "(32, 32, 3, 604388) (604388, 1) (32, 32, 3, 26032) (26032, 1) [ 1  2  3  4  5  6  7  8  9 10]\n",
      "(604388, 3072) (26032, 3072)\n"
     ]
    }
   ],
   "source": [
    "# Load data\n",
    "train_data = sio.loadmat('train_32x32.mat')\n",
    "test_data = sio.loadmat('test_32x32.mat')\n",
    "extra_data = sio.loadmat('extra_32x32.mat')\n",
    "\n",
    "x_train = train_data['X']\n",
    "y_train = train_data['y']\n",
    "x_test = test_data['X']\n",
    "y_test = test_data['y']\n",
    "x_extra = extra_data['X']\n",
    "y_extra = extra_data['y']\n",
    "\n",
    "# Use extra data as train data\n",
    "x_train = np.concatenate([x_train, x_extra], axis = 3)\n",
    "y_train = np.concatenate([y_train, y_extra])\n",
    "\n",
    "# Inspect shape of data\n",
    "print(x_train.shape, y_train.shape, \n",
    "      x_test.shape, y_test.shape, \n",
    "      np.unique(y_test))\n",
    "\n",
    "# reshape the data\n",
    "x_train = x_train.reshape((604388, 32*32*3))\n",
    "x_test = x_test.reshape((26032, 32*32*3))\n",
    "print(x_train.shape, x_test.shape)\n",
    "\n",
    "# Normalize data\n",
    "x_train_norm = x_train/255\n",
    "x_test_norm = x_test/255\n",
    "# y_train_norm = y_train/10\n",
    "# y_test_norm = y_test/10\n",
    "y_train_norm = y_train\n",
    "y_test_norm = y_test"
   ]
  },
  {
   "cell_type": "code",
   "execution_count": 4,
   "metadata": {},
   "outputs": [],
   "source": [
    "# Set y = 10 to y = 0\n",
    "y_train_norm[y_train_norm==10]=0\n",
    "y_test_norm[y_test_norm==10]=0"
   ]
  },
  {
   "cell_type": "code",
   "execution_count": 5,
   "metadata": {},
   "outputs": [],
   "source": [
    "\n",
    "# Transform np.array into tensor\n",
    "x_train_tensor = torch.from_numpy(x_train_norm).float().to(device)\n",
    "y_train_tensor = torch.from_numpy(y_train_norm).long().to(device)\n",
    "x_test_tensor = torch.from_numpy(x_test_norm).float().to(device)\n",
    "y_test_tensor = torch.from_numpy(y_test_norm).long().to(device)"
   ]
  },
  {
   "cell_type": "code",
   "execution_count": 6,
   "metadata": {},
   "outputs": [],
   "source": [
    "# D_in is input dimension;\n",
    "# H is hidden dimension; D_out is output dimension.\n",
    "D_in, H, D_out = 32*32*3, 1024, 10"
   ]
  },
  {
   "cell_type": "raw",
   "metadata": {},
   "source": [
    "# Build the NN model\n",
    "class Network(nn.Module):\n",
    "    def __init__(self):\n",
    "        super().__init__()\n",
    "        \n",
    "        # Inputs to 1st hidden layer linear transformation\n",
    "        self.hidden1 = nn.Linear(D_in, H)\n",
    "        # 1st hidden layer to 2nd hidden layer linear transformation\n",
    "        self.hidden2 = nn.Linear(H, H)\n",
    "        # Define ReLU activation\n",
    "        self.relu1 = nn.ReLU()\n",
    "        self.relu2 = nn.ReLU()\n",
    "        # Define output layer, 10 units - one for each digit\n",
    "        self.output = nn.Linear(H, D_out)\n",
    "        # Define softmax output\n",
    "        self.softmax = nn.Softmax(dim = 1)\n",
    "        \n",
    "    def forward(self, x):\n",
    "        # Pass the input tensor through each of our operations\n",
    "        x = self.hidden1(x)\n",
    "        x = self.hidden2(x)\n",
    "        x = self.relu1(x)\n",
    "        x = self.relu2(x)\n",
    "        x = self.output(x)\n",
    "        x = self.softmax(x)\n",
    "        \n",
    "        return x\n"
   ]
  },
  {
   "cell_type": "code",
   "execution_count": 7,
   "metadata": {},
   "outputs": [],
   "source": [
    "# Build another NN model\n",
    "class Network(nn.Module):\n",
    "    def __init__(self):\n",
    "        super().__init__()\n",
    "        \n",
    "        # Define ReLU activation\n",
    "        self.relu1 = nn.ReLU()\n",
    "        self.relu2 = nn.ReLU()\n",
    "        # Inputs to 1st linearn hidden layer linear transformation\n",
    "        self.linear1 = nn.Linear(D_in, H)\n",
    "        # 1st hidden layer to 2nd linear hidden layer linear transformation\n",
    "        self.linear2 = nn.Linear(H, H)\n",
    "        # Define output layer, 10 units - one for each digit\n",
    "        self.output = nn.Linear(H, D_out)\n",
    "        # Define softmax output\n",
    "        self.softmax = nn.Softmax(dim = 1)\n",
    "        \n",
    "    def forward(self, x):\n",
    "        # Pass the input tensor through each of our operations\n",
    "        x = self.relu1(x)\n",
    "        x = self.relu2(x)\n",
    "        x = self.linear1(x)\n",
    "        x = self.linear2(x)\n",
    "        x = self.output(x)\n",
    "        x = self.softmax(x)\n",
    "        \n",
    "        return x\n"
   ]
  },
  {
   "cell_type": "code",
   "execution_count": 8,
   "metadata": {},
   "outputs": [
    {
     "name": "stdout",
     "output_type": "stream",
     "text": [
      "Network(\n",
      "  (relu1): ReLU()\n",
      "  (relu2): ReLU()\n",
      "  (linear1): Linear(in_features=3072, out_features=1024, bias=True)\n",
      "  (linear2): Linear(in_features=1024, out_features=1024, bias=True)\n",
      "  (output): Linear(in_features=1024, out_features=10, bias=True)\n",
      "  (softmax): Softmax(dim=1)\n",
      ")\n"
     ]
    }
   ],
   "source": [
    "model = Network()\n",
    "print(model)"
   ]
  },
  {
   "cell_type": "code",
   "execution_count": 9,
   "metadata": {},
   "outputs": [],
   "source": [
    "# Training\n",
    "\n",
    "# 1000 minibatches of size 128 for a total of 128,000 observations\n",
    "n_epochs = 1\n",
    "batch_size = 128\n",
    "\n",
    "# Define optimizer\n",
    "optimizer = optim.SGD(model.parameters(), lr=0.003)\n",
    "# Define loss\n",
    "# criterion = nn.NLLLoss()\n",
    "criterion = nn.CrossEntropyLoss()\n",
    "\n",
    "# Define accuracy = correct / total\n",
    "train_total = 0\n",
    "train_correct = 0\n",
    "\n",
    "# Define steps & print_every\n",
    "steps = 0\n",
    "print_every = 100\n",
    "\n",
    "model.train()\n",
    "for epoch in range(n_epochs):\n",
    "    # set initial running loss\n",
    "    running_loss = 0\n",
    "    # get a permutation for batch sampling\n",
    "    permutation = torch.randperm(y_train_tensor.size()[0])\n",
    "    \n",
    "    # for i in range(0, y_train_tensor.size()[0], batch_size):\n",
    "    for i in range(0, 12800, batch_size):\n",
    "        steps += 1\n",
    "        # sample a batch\n",
    "        indices = permutation[i:i+batch_size]\n",
    "        batch_x, batch_y = x_train_tensor[indices,:], y_train_tensor[indices]\n",
    "        batch_y.squeeze_(1)\n",
    "        # zero grad for each batch to start with\n",
    "        optimizer.zero_grad()\n",
    "        # run model\n",
    "        outputs = model.forward(batch_x)\n",
    "        loss = criterion(outputs, batch_y)\n",
    "        loss.backward()\n",
    "        optimizer.step()\n",
    "        # accessing training result information\n",
    "        running_loss += loss.item()\n",
    "        train_total += batch_y.size()[0]\n",
    "        _, train_predicted = torch.max(outputs, 1)\n",
    "        train_correct += (train_predicted == batch_y).sum().item()\n",
    "        # testing\n",
    "        # if steps % print_every == 0:\n",
    "            "
   ]
  },
  {
   "cell_type": "code",
   "execution_count": null,
   "metadata": {},
   "outputs": [],
   "source": [
    "# Model validation\n",
    "test_loss = 0\n",
    "test_accuracy = 0\n",
    "test_correct = 0\n",
    "test_total = 0\n",
    "model.eval()\n",
    "with torch.no_grad():\n",
    "    y_test_tensor.squeeze_(1)\n",
    "    test_outputs = model.forward(x_test_tensor)\n",
    "    batch_loss = criterion(test_outputs, y_test_tensor)\n",
    "    test_loss += batch_loss.item()\n",
    "                \n",
    "    test_total += y_test_tensor.size()[0]\n",
    "    _, test_predicted = torch.max(test_outputs, 1)\n",
    "    test_correct += (test_predicted == y_test_tensor).sum().item()\n"
   ]
  },
  {
   "cell_type": "code",
   "execution_count": null,
   "metadata": {},
   "outputs": [],
   "source": [
    "print(running_loss)\n",
    "print('train_accuracy', train_correct/train_total)\n",
    "print('test_accuracy', test_correct/test_total)\n",
    "print('train_loss', running_loss/128000)\n",
    "print('test_loss', test_loss/len(y_test_tensor))"
   ]
  },
  {
   "cell_type": "code",
   "execution_count": null,
   "metadata": {},
   "outputs": [],
   "source": [
    "print(test_loss)"
   ]
  },
  {
   "cell_type": "code",
   "execution_count": null,
   "metadata": {},
   "outputs": [],
   "source": []
  },
  {
   "cell_type": "code",
   "execution_count": null,
   "metadata": {},
   "outputs": [],
   "source": [
    "(y_train_tensor.size())"
   ]
  },
  {
   "cell_type": "code",
   "execution_count": 11,
   "metadata": {},
   "outputs": [
    {
     "data": {
      "text/plain": [
       "(torch.Size([128]), torch.Size([128, 10]), torch.Size([128, 3072]))"
      ]
     },
     "execution_count": 11,
     "metadata": {},
     "output_type": "execute_result"
    }
   ],
   "source": [
    "(batch_y.shape, outputs.shape, batch_x.shape)"
   ]
  },
  {
   "cell_type": "code",
   "execution_count": null,
   "metadata": {},
   "outputs": [],
   "source": [
    "(y_train)"
   ]
  },
  {
   "cell_type": "code",
   "execution_count": null,
   "metadata": {},
   "outputs": [],
   "source": [
    "(y_train.shape)"
   ]
  },
  {
   "cell_type": "code",
   "execution_count": null,
   "metadata": {},
   "outputs": [],
   "source": []
  }
 ],
 "metadata": {
  "kernelspec": {
   "display_name": "Python 3",
   "language": "python",
   "name": "python3"
  },
  "language_info": {
   "codemirror_mode": {
    "name": "ipython",
    "version": 3
   },
   "file_extension": ".py",
   "mimetype": "text/x-python",
   "name": "python",
   "nbconvert_exporter": "python",
   "pygments_lexer": "ipython3",
   "version": "3.7.3"
  }
 },
 "nbformat": 4,
 "nbformat_minor": 2
}
